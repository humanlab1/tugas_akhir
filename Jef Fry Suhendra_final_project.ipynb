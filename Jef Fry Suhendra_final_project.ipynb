{
 "cells": [
  {
   "cell_type": "code",
   "execution_count": 2,
   "id": "171c772d",
   "metadata": {},
   "outputs": [],
   "source": [
    "import smtplib\n",
    "import imghdr\n",
    "import pandas as pd\n",
    "from getpass import getpass\n",
    "from email.message import EmailMessage"
   ]
  },
  {
   "cell_type": "code",
   "execution_count": null,
   "id": "8bf55fa5",
   "metadata": {},
   "outputs": [],
   "source": [
    "while True:   ##### Confirmation of email format is correct\n",
    "    email_id = input(\"Username: \")\n",
    "    for i in range(len(email_id)):\n",
    "        if email_id[i] == '@':\n",
    "            for i in range(len(email_id)):\n",
    "                if email_id[i] == '.':\n",
    "                    break\n",
    "                else:\n",
    "                    i +=1\n",
    "            break\n",
    "        else:\n",
    "            i +=1\n",
    "    if i < len(email_id):\n",
    "        break\n",
    "    else:\n",
    "        print(\"Input an Email ID! Try again..\\n\")\n",
    "\n",
    "email_pass = getpass(\"Password: \")\n",
    "\n",
    "contacts = pd.read_csv('receiver_list.txt')    ### Format must be like this : [123123@gmail.com, 12312jasd@aaa.com]\n",
    "\n",
    "msg = EmailMessage()\n",
    "msg['Subject'] = \"Hello, this is from Basic Python BETA Group Batch 8!!\"\n",
    "msg['From'] = email_id\n",
    "msg['To'] = ', '.join(contacts)\n",
    "\n",
    "msg.set_content(\"We'll try to send Image Files\")\n",
    "\n",
    "files = ['gambar1.jpg','gambar2.jpg','gambar3.jpg']\n",
    "\n",
    "for file in files:\n",
    "    with open(file,'rb') as m:\n",
    "        file_data = m.read()\n",
    "        file_type = imghdr.what(m.name)  \n",
    "        file_name = m.name\n",
    "    \n",
    "    msg.add_attachment(file_data, maintype = 'image', subtype = file_type, filename=file_name)\n",
    "\n",
    "with smtplib.SMTP_SSL('smtp.gmail.com', 465) as smtp:\n",
    "    smtp.login(email_id,email_pass)\n",
    "    smtp.send_message(msg)\n",
    "    \n",
    "    \n",
    "## *****************************************************************************************    \n",
    "###### For sending pdf/other files #####\n",
    "# files = ['bbbb.pdf']\n",
    "\n",
    "# for file in files:\n",
    "#     with open(file,'rb') as m:\n",
    "#         file_data = m.read() \n",
    "#         file_name = m.name\n",
    "\n",
    "#########################################################################################\n",
    "###### For sending html format #####\n",
    "# msg.set_content(\"plain text\")\n",
    "# msg.add_alternative(\"\"\"\n",
    "#     <!DOCTYPE html>\n",
    "#     <html>\n",
    "#         <body>\n",
    "#             <h1 style\"color:red;\"> This is HTML message</h1>\n",
    "#         </body>\n",
    "#     </html>\n",
    "# \"\"\")\n",
    "#############################################################################"
   ]
  },
  {
   "cell_type": "code",
   "execution_count": null,
   "id": "dc23cdb1",
   "metadata": {},
   "outputs": [],
   "source": []
  },
  {
   "cell_type": "code",
   "execution_count": null,
   "id": "925a985c",
   "metadata": {},
   "outputs": [],
   "source": []
  }
 ],
 "metadata": {
  "kernelspec": {
   "display_name": "Python 3 (ipykernel)",
   "language": "python",
   "name": "python3"
  },
  "language_info": {
   "codemirror_mode": {
    "name": "ipython",
    "version": 3
   },
   "file_extension": ".py",
   "mimetype": "text/x-python",
   "name": "python",
   "nbconvert_exporter": "python",
   "pygments_lexer": "ipython3",
   "version": "3.9.5"
  }
 },
 "nbformat": 4,
 "nbformat_minor": 5
}
